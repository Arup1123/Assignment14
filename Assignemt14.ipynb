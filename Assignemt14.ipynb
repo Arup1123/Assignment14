{
 "cells": [
  {
   "cell_type": "markdown",
   "id": "9271928c-1a56-4d32-ab17-db353da6a9b1",
   "metadata": {},
   "source": [
    "Assignment 14"
   ]
  },
  {
   "cell_type": "markdown",
   "id": "68b7da95-d64c-4eb1-85e9-736b43e99935",
   "metadata": {},
   "source": [
    "Q1. What is an API? Give an example, where an API used in real life."
   ]
  },
  {
   "cell_type": "markdown",
   "id": "2cc09757-393d-44b9-9147-6c8906d426c8",
   "metadata": {},
   "source": [
    "Ans: APIs are mechanisms that enable two software components to communicate with each other using a set of definitions and\n",
    "     protocols.\n",
    "     For example, the weather bureau's software system contains daily weather data. The weather app on our phone \"talks\" to        this system via APIs and shows we daily weather updates on our phone. "
   ]
  },
  {
   "cell_type": "markdown",
   "id": "22f6ab93-f718-4037-9df8-f8fa13dc4a6c",
   "metadata": {},
   "source": [
    "Q2. Give advantage and disadvantage of using API."
   ]
  },
  {
   "cell_type": "markdown",
   "id": "5c607b07-15c1-4d02-a686-0862823b4a02",
   "metadata": {},
   "source": [
    "Ans; Advantage:\n",
    "     1. Increased Interoperability\n",
    "     2. Improved Efficiency\n",
    "     3. Better User Experience\n",
    "     4. Increased Flexibility\n",
    "     5. New Revenue Streams\n",
    "     Disadvantage:\n",
    "     1. Security Concern\n",
    "     2. Complexity\n",
    "     3. Compatibility Issues\n",
    "     4. Dependency on Third-Party Developers\n",
    "     5. Governance and Management"
   ]
  },
  {
   "cell_type": "markdown",
   "id": "78cdd43a-77c2-4c6c-96fd-890a86bf68b3",
   "metadata": {},
   "source": [
    "Q3. What is an Web API? Differentiate between API and Web API."
   ]
  },
  {
   "cell_type": "markdown",
   "id": "4a736fd7-3635-4d3f-af46-93c748d193b1",
   "metadata": {},
   "source": [
    "Ans: An web API is an application programming interface for either a web server or a web browser. It can be accessed over      the web using the HTTP Protocol. It is a framework that helps we to create and develop HTTP based RESTFUL service.\n",
    "     \n",
    "     1. API is an mechanism that enable two software components to communicate with each other using a set of definitions        and protocols. Whereas, An web API is an application programming interface for either a web server or a web                  browser.\n",
    "     2. API is an interface that exposes an application's data to outside software. Whereas, web applications are one type of         API with stricker requirements. \n",
    "     \n",
    "     \n",
    "     \n",
    "    "
   ]
  },
  {
   "cell_type": "markdown",
   "id": "18247f3f-8dfa-478e-a1b6-d438fdc3b0e4",
   "metadata": {},
   "source": [
    "Q4. Explain REST and SOAP architecture. Mention shortcomings of SOAP."
   ]
  },
  {
   "cell_type": "markdown",
   "id": "6439dca8-c84b-4b18-b8be-b890dfcc700f",
   "metadata": {},
   "source": [
    "Ans: REST Architecture: REST stands for REpresentational State Transfer, is a software architectural style that defines        the set of rules to be used for creating web services. Web services which follow the the REST Architectural style        are known as RESTful web services. It allows requesting systems to access and manipulate web resources by using a        uniform and predefined set of rules. Interaction in REST  based systems happen through Internet's Hyper Transfer          Protocol.  \n",
    "     \n",
    "     SOAP Architecture: SOAP  is an acronym for Simple Object Access Protocol. It is an XML based messaging protocol for\n",
    "     exchanging information among computers.SOAP is an application of the XML specification. SOAP provides data transport\n",
    "     for web services. SOAP can exchange complete documents or call a remote procedure. SOAP can be used for broadcasting      a message. SOAP is platform and language independent. SOAP enables client applications to easily connect to remote        services and invoke remote methods.\n",
    "     2nd part:\n",
    "     1. API calls are not Catched\n",
    "     2. Extremely Complicated\n",
    "     3. No choice of data format\n",
    "     4. Requires more bandwidth. "
   ]
  },
  {
   "cell_type": "markdown",
   "id": "150237ca-5a49-4032-be10-f4c7f0373a80",
   "metadata": {},
   "source": [
    "Q5. Differentiate between REST and SOAP."
   ]
  },
  {
   "cell_type": "markdown",
   "id": "739e2e50-3060-4d33-904a-46be508ae060",
   "metadata": {},
   "source": [
    "Ans: 1. REST stands for REpresentation State Transfer. Whereas, SOAP stands for Simple Object Access Protocol.\n",
    "     2. REST is an architectural style with loose guidelines.Whereas, SOAP is a standerdized protocol for pre-defined             rules to follow.\n",
    "     3. REST is stateful, i.e no server-side sessions occur. Whereas, SOAP is by default stateless, but it is possible to         make this API stateful.\n",
    "     4. REST supports various formats like HTML, XML, and JSON. Whereas, SOAP only supports XML format.\n",
    "     5. REST works on HTTP, SMP, UDP, etc. Whereas, SOAP only works on HTTPS.\n",
    "     6. REST API calls can be cached. Whereas, SOAP API calls cannot be cached."
   ]
  }
 ],
 "metadata": {
  "kernelspec": {
   "display_name": "Python 3 (ipykernel)",
   "language": "python",
   "name": "python3"
  },
  "language_info": {
   "codemirror_mode": {
    "name": "ipython",
    "version": 3
   },
   "file_extension": ".py",
   "mimetype": "text/x-python",
   "name": "python",
   "nbconvert_exporter": "python",
   "pygments_lexer": "ipython3",
   "version": "3.10.8"
  }
 },
 "nbformat": 4,
 "nbformat_minor": 5
}
